{
 "cells": [
  {
   "cell_type": "markdown",
   "metadata": {},
   "source": [
    "# Exploratory Data Analysis (EDA)\n",
    "This notebook try to understand the data completency and quality.\n",
    "There are some folders which are **NOT** consistancy named. Run this notebook first before creating a model to ensure data readiness. "
   ]
  },
  {
   "cell_type": "markdown",
   "metadata": {},
   "source": [
    "## Install Libraries"
   ]
  },
  {
   "cell_type": "code",
   "execution_count": 1,
   "metadata": {},
   "outputs": [
    {
     "name": "stdout",
     "output_type": "stream",
     "text": [
      "/anaconda/envs/azureml_py38/bin//python3\n"
     ]
    }
   ],
   "source": [
    "!which python3"
   ]
  },
  {
   "cell_type": "markdown",
   "metadata": {},
   "source": [
    "## Import Libraries"
   ]
  },
  {
   "cell_type": "code",
   "execution_count": 2,
   "metadata": {},
   "outputs": [],
   "source": [
    "import os\n",
    "import glob\n",
    "import pandas as pd\n",
    "import matplotlib.pyplot as plt\n",
    "from PIL import Image"
   ]
  },
  {
   "cell_type": "markdown",
   "metadata": {},
   "source": [
    "## Dataset Constants\n",
    "Dataset is located in `../datasets` relative to this notebook and contains of two subset, `train` and `validation`.\n",
    "\n",
    "There are 4 categories that will be classified:\n",
    "- architecture\n",
    "- art and culture\n",
    "- food and drinks\n",
    "- travel and adventure"
   ]
  },
  {
   "cell_type": "code",
   "execution_count": 3,
   "metadata": {},
   "outputs": [],
   "source": [
    "DATASET_DIR = '../datasets'\n",
    "SUBSETS = ['train', 'validation']\n",
    "CLASSES = ['architecture', 'art and culture', 'food and drinks', 'travel and adventure']"
   ]
  },
  {
   "cell_type": "markdown",
   "metadata": {},
   "source": [
    "## Dataset Completency\n",
    "Let's check our dataset folder structure and format."
   ]
  },
  {
   "cell_type": "code",
   "execution_count": 4,
   "metadata": {},
   "outputs": [
    {
     "data": {
      "text/html": [
       "<div>\n",
       "<style scoped>\n",
       "    .dataframe tbody tr th:only-of-type {\n",
       "        vertical-align: middle;\n",
       "    }\n",
       "\n",
       "    .dataframe tbody tr th {\n",
       "        vertical-align: top;\n",
       "    }\n",
       "\n",
       "    .dataframe thead th {\n",
       "        text-align: right;\n",
       "    }\n",
       "</style>\n",
       "<table border=\"1\" class=\"dataframe\">\n",
       "  <thead>\n",
       "    <tr style=\"text-align: right;\">\n",
       "      <th></th>\n",
       "      <th>subset</th>\n",
       "      <th>class</th>\n",
       "      <th>path</th>\n",
       "    </tr>\n",
       "  </thead>\n",
       "  <tbody>\n",
       "    <tr>\n",
       "      <th>0</th>\n",
       "      <td>train</td>\n",
       "      <td>architecture</td>\n",
       "      <td>../datasets/train/architecture/2307645771_b14c...</td>\n",
       "    </tr>\n",
       "    <tr>\n",
       "      <th>1</th>\n",
       "      <td>train</td>\n",
       "      <td>architecture</td>\n",
       "      <td>../datasets/train/architecture/15944714186_76d...</td>\n",
       "    </tr>\n",
       "    <tr>\n",
       "      <th>2</th>\n",
       "      <td>train</td>\n",
       "      <td>architecture</td>\n",
       "      <td>../datasets/train/architecture/16256636865_830...</td>\n",
       "    </tr>\n",
       "    <tr>\n",
       "      <th>3</th>\n",
       "      <td>train</td>\n",
       "      <td>architecture</td>\n",
       "      <td>../datasets/train/architecture/7286075678_5ee8...</td>\n",
       "    </tr>\n",
       "    <tr>\n",
       "      <th>4</th>\n",
       "      <td>train</td>\n",
       "      <td>architecture</td>\n",
       "      <td>../datasets/train/architecture/5142815129_985b...</td>\n",
       "    </tr>\n",
       "    <tr>\n",
       "      <th>...</th>\n",
       "      <td>...</td>\n",
       "      <td>...</td>\n",
       "      <td>...</td>\n",
       "    </tr>\n",
       "    <tr>\n",
       "      <th>35103</th>\n",
       "      <td>validation</td>\n",
       "      <td>travel and adventure</td>\n",
       "      <td>../datasets/validation/travel and adventure/5.jpg</td>\n",
       "    </tr>\n",
       "    <tr>\n",
       "      <th>35104</th>\n",
       "      <td>validation</td>\n",
       "      <td>travel and adventure</td>\n",
       "      <td>../datasets/validation/travel and adventure/19...</td>\n",
       "    </tr>\n",
       "    <tr>\n",
       "      <th>35105</th>\n",
       "      <td>validation</td>\n",
       "      <td>travel and adventure</td>\n",
       "      <td>../datasets/validation/travel and adventure/3.jpg</td>\n",
       "    </tr>\n",
       "    <tr>\n",
       "      <th>35106</th>\n",
       "      <td>validation</td>\n",
       "      <td>travel and adventure</td>\n",
       "      <td>../datasets/validation/travel and adventure/0.jpg</td>\n",
       "    </tr>\n",
       "    <tr>\n",
       "      <th>35107</th>\n",
       "      <td>validation</td>\n",
       "      <td>travel and adventure</td>\n",
       "      <td>../datasets/validation/travel and adventure/23...</td>\n",
       "    </tr>\n",
       "  </tbody>\n",
       "</table>\n",
       "<p>35108 rows × 3 columns</p>\n",
       "</div>"
      ],
      "text/plain": [
       "           subset                 class  \\\n",
       "0           train          architecture   \n",
       "1           train          architecture   \n",
       "2           train          architecture   \n",
       "3           train          architecture   \n",
       "4           train          architecture   \n",
       "...           ...                   ...   \n",
       "35103  validation  travel and adventure   \n",
       "35104  validation  travel and adventure   \n",
       "35105  validation  travel and adventure   \n",
       "35106  validation  travel and adventure   \n",
       "35107  validation  travel and adventure   \n",
       "\n",
       "                                                    path  \n",
       "0      ../datasets/train/architecture/2307645771_b14c...  \n",
       "1      ../datasets/train/architecture/15944714186_76d...  \n",
       "2      ../datasets/train/architecture/16256636865_830...  \n",
       "3      ../datasets/train/architecture/7286075678_5ee8...  \n",
       "4      ../datasets/train/architecture/5142815129_985b...  \n",
       "...                                                  ...  \n",
       "35103  ../datasets/validation/travel and adventure/5.jpg  \n",
       "35104  ../datasets/validation/travel and adventure/19...  \n",
       "35105  ../datasets/validation/travel and adventure/3.jpg  \n",
       "35106  ../datasets/validation/travel and adventure/0.jpg  \n",
       "35107  ../datasets/validation/travel and adventure/23...  \n",
       "\n",
       "[35108 rows x 3 columns]"
      ]
     },
     "execution_count": 4,
     "metadata": {},
     "output_type": "execute_result"
    }
   ],
   "source": [
    "data_paths = []\n",
    "for subset in SUBSETS:\n",
    "    for class_name in CLASSES:\n",
    "        # Ensure dataset exists\n",
    "        class_dir = f'{DATASET_DIR}/{subset}/{class_name}'\n",
    "        assert os.path.exists(class_dir), f\"Missing dataset for {class_dir}\"\n",
    "\n",
    "        # Get all image paths\n",
    "        paths = glob.glob(f'{class_dir}/*')\n",
    "        data_paths.extend([{\n",
    "            'subset': subset,\n",
    "            'class': class_name,\n",
    "            'path': path,\n",
    "        } for path in paths])\n",
    "\n",
    "df_image = pd.DataFrame(data_paths)\n",
    "df_image"
   ]
  },
  {
   "cell_type": "markdown",
   "metadata": {},
   "source": [
    "## Subset\n",
    "Ensure there are two subset."
   ]
  },
  {
   "cell_type": "code",
   "execution_count": 5,
   "metadata": {},
   "outputs": [
    {
     "name": "stdout",
     "output_type": "stream",
     "text": [
      "Subset Distribution\n"
     ]
    },
    {
     "data": {
      "text/plain": [
       "subset\n",
       "train         34993\n",
       "validation      115\n",
       "Name: count, dtype: int64"
      ]
     },
     "execution_count": 5,
     "metadata": {},
     "output_type": "execute_result"
    }
   ],
   "source": [
    "assert df_image['subset'].unique().tolist() == ['train', 'validation'], \"Dataset should contains two subset, train and validation.\"\n",
    "\n",
    "print('Subset Distribution')\n",
    "df_image['subset'].value_counts()"
   ]
  },
  {
   "cell_type": "markdown",
   "metadata": {},
   "source": [
    "## Class Distribution"
   ]
  },
  {
   "cell_type": "code",
   "execution_count": 6,
   "metadata": {},
   "outputs": [
    {
     "name": "stdout",
     "output_type": "stream",
     "text": [
      "Class Distribution for subset \"train\"\n"
     ]
    },
    {
     "data": {
      "text/plain": [
       "class\n",
       "travel and adventure    8800\n",
       "food and drinks         8782\n",
       "art and culture         8750\n",
       "architecture            8661\n",
       "Name: count, dtype: int64"
      ]
     },
     "execution_count": 6,
     "metadata": {},
     "output_type": "execute_result"
    }
   ],
   "source": [
    "print(f'Class Distribution for subset \"train\"')\n",
    "df_image[df_image['subset'] == 'train']['class'].value_counts()"
   ]
  },
  {
   "cell_type": "code",
   "execution_count": 7,
   "metadata": {},
   "outputs": [
    {
     "name": "stdout",
     "output_type": "stream",
     "text": [
      "Class Distribution for subset \"validation\"\n"
     ]
    },
    {
     "data": {
      "text/plain": [
       "class\n",
       "architecture            30\n",
       "art and culture         30\n",
       "food and drinks         30\n",
       "travel and adventure    25\n",
       "Name: count, dtype: int64"
      ]
     },
     "execution_count": 7,
     "metadata": {},
     "output_type": "execute_result"
    }
   ],
   "source": [
    "print(f'Class Distribution for subset \"validation\"')\n",
    "df_image[df_image['subset'] == 'validation']['class'].value_counts()"
   ]
  },
  {
   "cell_type": "markdown",
   "metadata": {},
   "source": [
    "Look's like all categories are well balanced and good for training Deep Learning model."
   ]
  },
  {
   "cell_type": "markdown",
   "metadata": {},
   "source": [
    "## Image Resolution\n",
    "Let's check the image resolution, and find at what image size is good as model input."
   ]
  },
  {
   "cell_type": "code",
   "execution_count": 8,
   "metadata": {},
   "outputs": [
    {
     "name": "stderr",
     "output_type": "stream",
     "text": [
      "/anaconda/envs/tsel-image-cls/lib/python3.9/site-packages/PIL/TiffImagePlugin.py:950: UserWarning: Corrupt EXIF data.  Expecting to read 4 bytes but only got 0. \n",
      "  warnings.warn(str(msg))\n"
     ]
    },
    {
     "data": {
      "text/html": [
       "<div>\n",
       "<style scoped>\n",
       "    .dataframe tbody tr th:only-of-type {\n",
       "        vertical-align: middle;\n",
       "    }\n",
       "\n",
       "    .dataframe tbody tr th {\n",
       "        vertical-align: top;\n",
       "    }\n",
       "\n",
       "    .dataframe thead th {\n",
       "        text-align: right;\n",
       "    }\n",
       "</style>\n",
       "<table border=\"1\" class=\"dataframe\">\n",
       "  <thead>\n",
       "    <tr style=\"text-align: right;\">\n",
       "      <th></th>\n",
       "      <th>subset</th>\n",
       "      <th>class</th>\n",
       "      <th>path</th>\n",
       "      <th>width</th>\n",
       "      <th>height</th>\n",
       "      <th>error</th>\n",
       "    </tr>\n",
       "  </thead>\n",
       "  <tbody>\n",
       "    <tr>\n",
       "      <th>0</th>\n",
       "      <td>train</td>\n",
       "      <td>architecture</td>\n",
       "      <td>../datasets/train/architecture/2307645771_b14c...</td>\n",
       "      <td>128.0</td>\n",
       "      <td>128.0</td>\n",
       "      <td>NaN</td>\n",
       "    </tr>\n",
       "    <tr>\n",
       "      <th>1</th>\n",
       "      <td>train</td>\n",
       "      <td>architecture</td>\n",
       "      <td>../datasets/train/architecture/15944714186_76d...</td>\n",
       "      <td>128.0</td>\n",
       "      <td>128.0</td>\n",
       "      <td>NaN</td>\n",
       "    </tr>\n",
       "    <tr>\n",
       "      <th>2</th>\n",
       "      <td>train</td>\n",
       "      <td>architecture</td>\n",
       "      <td>../datasets/train/architecture/16256636865_830...</td>\n",
       "      <td>128.0</td>\n",
       "      <td>128.0</td>\n",
       "      <td>NaN</td>\n",
       "    </tr>\n",
       "    <tr>\n",
       "      <th>3</th>\n",
       "      <td>train</td>\n",
       "      <td>architecture</td>\n",
       "      <td>../datasets/train/architecture/7286075678_5ee8...</td>\n",
       "      <td>128.0</td>\n",
       "      <td>128.0</td>\n",
       "      <td>NaN</td>\n",
       "    </tr>\n",
       "    <tr>\n",
       "      <th>4</th>\n",
       "      <td>train</td>\n",
       "      <td>architecture</td>\n",
       "      <td>../datasets/train/architecture/5142815129_985b...</td>\n",
       "      <td>128.0</td>\n",
       "      <td>128.0</td>\n",
       "      <td>NaN</td>\n",
       "    </tr>\n",
       "  </tbody>\n",
       "</table>\n",
       "</div>"
      ],
      "text/plain": [
       "  subset         class                                               path  \\\n",
       "0  train  architecture  ../datasets/train/architecture/2307645771_b14c...   \n",
       "1  train  architecture  ../datasets/train/architecture/15944714186_76d...   \n",
       "2  train  architecture  ../datasets/train/architecture/16256636865_830...   \n",
       "3  train  architecture  ../datasets/train/architecture/7286075678_5ee8...   \n",
       "4  train  architecture  ../datasets/train/architecture/5142815129_985b...   \n",
       "\n",
       "   width  height  error  \n",
       "0  128.0   128.0    NaN  \n",
       "1  128.0   128.0    NaN  \n",
       "2  128.0   128.0    NaN  \n",
       "3  128.0   128.0    NaN  \n",
       "4  128.0   128.0    NaN  "
      ]
     },
     "execution_count": 8,
     "metadata": {},
     "output_type": "execute_result"
    }
   ],
   "source": [
    "def get_image_resolution(path):\n",
    "    try:\n",
    "        with Image.open(path) as img:\n",
    "            return pd.Series(list(img.size) + [None, ])  # returns (width, height)\n",
    "\n",
    "    except Exception as e:\n",
    "        print(f\"Warning: Could not open image {path}. Error: {e}\")\n",
    "        return pd.Series([None, None, str(e)])\n",
    "\n",
    "df_image[['width', 'height', 'error']] = df_image['path'].apply(get_image_resolution)\n",
    "df_image.head()"
   ]
  },
  {
   "cell_type": "code",
   "execution_count": 9,
   "metadata": {},
   "outputs": [],
   "source": [
    "# Check whether there are any invalid images\n",
    "assert df_image['error'].notna().sum() == 0, \"There are some invalid images!\""
   ]
  },
  {
   "cell_type": "code",
   "execution_count": 10,
   "metadata": {},
   "outputs": [
    {
     "data": {
      "text/html": [
       "<div>\n",
       "<style scoped>\n",
       "    .dataframe tbody tr th:only-of-type {\n",
       "        vertical-align: middle;\n",
       "    }\n",
       "\n",
       "    .dataframe tbody tr th {\n",
       "        vertical-align: top;\n",
       "    }\n",
       "\n",
       "    .dataframe thead th {\n",
       "        text-align: right;\n",
       "    }\n",
       "</style>\n",
       "<table border=\"1\" class=\"dataframe\">\n",
       "  <thead>\n",
       "    <tr style=\"text-align: right;\">\n",
       "      <th></th>\n",
       "      <th>width</th>\n",
       "      <th>height</th>\n",
       "    </tr>\n",
       "  </thead>\n",
       "  <tbody>\n",
       "    <tr>\n",
       "      <th>count</th>\n",
       "      <td>35108.000000</td>\n",
       "      <td>35108.000000</td>\n",
       "    </tr>\n",
       "    <tr>\n",
       "      <th>mean</th>\n",
       "      <td>379.976359</td>\n",
       "      <td>318.730062</td>\n",
       "    </tr>\n",
       "    <tr>\n",
       "      <th>std</th>\n",
       "      <td>417.904200</td>\n",
       "      <td>309.923573</td>\n",
       "    </tr>\n",
       "    <tr>\n",
       "      <th>min</th>\n",
       "      <td>100.000000</td>\n",
       "      <td>92.000000</td>\n",
       "    </tr>\n",
       "    <tr>\n",
       "      <th>25%</th>\n",
       "      <td>128.000000</td>\n",
       "      <td>128.000000</td>\n",
       "    </tr>\n",
       "    <tr>\n",
       "      <th>50%</th>\n",
       "      <td>256.000000</td>\n",
       "      <td>256.000000</td>\n",
       "    </tr>\n",
       "    <tr>\n",
       "      <th>75%</th>\n",
       "      <td>321.000000</td>\n",
       "      <td>320.000000</td>\n",
       "    </tr>\n",
       "    <tr>\n",
       "      <th>max</th>\n",
       "      <td>7360.000000</td>\n",
       "      <td>6160.000000</td>\n",
       "    </tr>\n",
       "  </tbody>\n",
       "</table>\n",
       "</div>"
      ],
      "text/plain": [
       "              width        height\n",
       "count  35108.000000  35108.000000\n",
       "mean     379.976359    318.730062\n",
       "std      417.904200    309.923573\n",
       "min      100.000000     92.000000\n",
       "25%      128.000000    128.000000\n",
       "50%      256.000000    256.000000\n",
       "75%      321.000000    320.000000\n",
       "max     7360.000000   6160.000000"
      ]
     },
     "execution_count": 10,
     "metadata": {},
     "output_type": "execute_result"
    }
   ],
   "source": [
    "# Summarize image size\n",
    "df_image[['width', 'height']].describe()"
   ]
  },
  {
   "cell_type": "markdown",
   "metadata": {},
   "source": [
    "Based on statistics, the mean for `width` x `height` is approximately **`380` x `320`**.\n",
    "We will use this value as our input size because it will have a good image ratio."
   ]
  },
  {
   "cell_type": "code",
   "execution_count": 11,
   "metadata": {},
   "outputs": [],
   "source": [
    "# Save dataset table\n",
    "df_image.to_csv(f'../datasets/dataset.csv', sep=';', index=False)"
   ]
  },
  {
   "cell_type": "code",
   "execution_count": null,
   "metadata": {},
   "outputs": [],
   "source": []
  }
 ],
 "metadata": {
  "kernelspec": {
   "display_name": "tsel-image-cls",
   "language": "python",
   "name": "python3"
  },
  "language_info": {
   "codemirror_mode": {
    "name": "ipython",
    "version": 3
   },
   "file_extension": ".py",
   "mimetype": "text/x-python",
   "name": "python",
   "nbconvert_exporter": "python",
   "pygments_lexer": "ipython3",
   "version": "3.9.21"
  }
 },
 "nbformat": 4,
 "nbformat_minor": 2
}
